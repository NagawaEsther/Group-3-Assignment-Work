{
 "cells": [
  {
   "cell_type": "markdown",
   "metadata": {},
   "source": [
    "                                         GROUP 3\n",
    "                                    NAGAWA ESTHER.REG NO:2023/DCSE/0049/SS\n",
    "                                    NANSALIRE ANITAH.REG NO:2023/DCSE/0079/SS\n",
    "                                    AKAPO REGINAH EBAJU. REG NO:2023/DCSE/006/SS\n",
    "                                    AMUTUHAIRE FAITH AHABWE. REG NO:2023/DCSE/0011/SS\n",
    "                                    LWAMULUNGI SHEILAH. REG NO:2023/DCSE/0037/SS\n",
    "                                    NAMUDDU MARIAM. REG NO:2023/DCSE/00105/SS"
   ]
  },
  {
   "cell_type": "markdown",
   "metadata": {},
   "source": [
    "# Linear function code"
   ]
  },
  {
   "cell_type": "code",
   "execution_count": 2,
   "metadata": {},
   "outputs": [
    {
     "name": "stdout",
     "output_type": "stream",
     "text": [
      "For x = 5, f(x) = 11\n"
     ]
    }
   ],
   "source": [
    "# Define a linear function: f(x) = mx + b\n",
    "def linear_function(x, m, b):\n",
    "    return m * x + b\n",
    "\n",
    "# Example usage:\n",
    "# Given the linear function f(x) = 2x + 1\n",
    "slope = 2\n",
    "intercept = 1\n",
    "\n",
    "# Evaluate the function for a specific x-value\n",
    "x_value = 5\n",
    "result = linear_function(x_value, slope, intercept)\n",
    "\n",
    "# Print the result\n",
    "print(f\"For x = {x_value}, f(x) = {result}\")"
   ]
  },
  {
   "cell_type": "code",
   "execution_count": 128,
   "metadata": {},
   "outputs": [
    {
     "name": "stdout",
     "output_type": "stream",
     "text": [
      "Linear Function:\n",
      "Input (x): [-5, -4, -3, -2, -1, 0, 1, 2, 3, 4, 5, 6, 7, 8, 9]\n",
      "Output (y): [-9, -7, -5, -3, -1, 1, 3, 5, 7, 9, 11, 13, 15, 17, 19]\n"
     ]
    }
   ],
   "source": [
    "def linear_function(x):\n",
    "    return 2 * x + 3\n",
    "\n",
    "# Finding the range of the linear function\n",
    "# We can find the range by finding the minimum and maximum values of the domain.\n",
    "# Since the domain can be any real number, the range will also extend to infinity.\n",
    "# Therefore, the range is ().\n",
    "# Define a linear function\n",
    "def linear_function(x):\n",
    "    return 2*x + 1\n",
    "\n",
    "# Determine the output (y-values) for a range of x-values\n",
    "x_values_linear = range(-5, 10)  # Adjust the range as needed\n",
    "y_values_linear = [linear_function(x) for x in x_values_linear]\n",
    "\n",
    "# Print the results\n",
    "print(\"Linear Function:\")\n",
    "print(\"Input (x):\", list(x_values_linear))\n",
    "print(\"Output (y):\", y_values_linear)"
   ]
  },
  {
   "cell_type": "code",
   "execution_count": 125,
   "metadata": {},
   "outputs": [
    {
     "name": "stdout",
     "output_type": "stream",
     "text": [
      "13\n"
     ]
    }
   ],
   "source": [
    "#In summary, this code defines a class for linear functions, creates an instance of that class representing a specific linear function,\n",
    "# evaluates the function at a given value of x and prints the result\n",
    "# This approach provides a reusable and organized way to work with linear functions in Python.\n",
    "\n",
    "#f(x)=2x+3. After evaluating this linear function at x=5\n",
    "\n",
    "class LinearFunction:\n",
    "    def __init__(self, slope, intercept):\n",
    "        self.slope = slope\n",
    "        self.intercept = intercept\n",
    "\n",
    "    def evaluate(self, x):\n",
    "        return self.slope * x + self.intercept\n",
    "\n",
    "# Create a linear function with slope = 2 and intercept = 3\n",
    "linear = LinearFunction(2, 3)\n",
    "\n",
    "# Evaluate the linear function at x = 5\n",
    "result = linear.evaluate(5)\n",
    "print(result) "
   ]
  },
  {
   "cell_type": "markdown",
   "metadata": {},
   "source": [
    "# Non-linear function code"
   ]
  },
  {
   "cell_type": "code",
   "execution_count": 33,
   "metadata": {},
   "outputs": [
    {
     "name": "stdout",
     "output_type": "stream",
     "text": [
      "-22\n"
     ]
    }
   ],
   "source": [
    "def quadratic_function(x,y,z,w):\n",
    "    return y* x*-4 + z* x + w\n",
    "\n",
    "# Example usage:\n",
    "y_coefficient=1\n",
    "z_coefficient=-4\n",
    "w_coefficient=2\n",
    "\n",
    "result=quadratic_function(3,y_coefficient,z_coefficient,w_coefficient)\n",
    "print(result)"
   ]
  },
  {
   "cell_type": "code",
   "execution_count": 44,
   "metadata": {},
   "outputs": [
    {
     "name": "stdout",
     "output_type": "stream",
     "text": [
      "The result of the quadratic function at x = 4 is: 45\n"
     ]
    }
   ],
   "source": [
    "def quadratic_function(x):\n",
    "    \"\"\"\n",
    "    Quadratic function: f(x) = ax^2 + bx + c\n",
    "    \"\"\"\n",
    "    a = 2\n",
    "    b = 3\n",
    "    c = 1\n",
    "    return a * x**2 + b * x + c\n",
    "\n",
    "# Example usage:\n",
    "x_value = 4\n",
    "result = quadratic_function(x_value)\n",
    "print(f\"The result of the quadratic function at x = {x_value} is: {result}\")"
   ]
  }
 ],
 "metadata": {
  "kernelspec": {
   "display_name": "Python 3",
   "language": "python",
   "name": "python3"
  },
  "language_info": {
   "codemirror_mode": {
    "name": "ipython",
    "version": 3
   },
   "file_extension": ".py",
   "mimetype": "text/x-python",
   "name": "python",
   "nbconvert_exporter": "python",
   "pygments_lexer": "ipython3",
   "version": "3.11.4"
  }
 },
 "nbformat": 4,
 "nbformat_minor": 2
}
